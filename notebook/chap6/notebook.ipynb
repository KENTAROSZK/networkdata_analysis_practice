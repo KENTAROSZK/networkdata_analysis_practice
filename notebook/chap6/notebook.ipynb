{
 "cells": [
  {
   "cell_type": "code",
   "execution_count": 1,
   "id": "66ef7093",
   "metadata": {},
   "outputs": [],
   "source": [
    "import torch\n",
    "\n",
    "x = torch.tensor([[1, 2], [3, 4], [5, 6]])"
   ]
  },
  {
   "cell_type": "code",
   "execution_count": 2,
   "id": "136c7f8e",
   "metadata": {},
   "outputs": [
    {
     "name": "stdout",
     "output_type": "stream",
     "text": [
      "tensor([[1, 2],\n",
      "        [3, 4],\n",
      "        [5, 6]])\n"
     ]
    }
   ],
   "source": [
    "print(x)"
   ]
  },
  {
   "cell_type": "code",
   "execution_count": 3,
   "id": "8b835639",
   "metadata": {},
   "outputs": [
    {
     "name": "stdout",
     "output_type": "stream",
     "text": [
      "隣接行列 (Adjacency Matrix):\n",
      "[[0 1 0 0 0]\n",
      " [1 0 1 0 0]\n",
      " [0 1 0 1 0]\n",
      " [0 0 1 0 1]\n",
      " [0 0 0 1 0]]\n",
      "\n",
      "次数行列 (Degree Matrix):\n",
      "[[1 0 0 0 0]\n",
      " [0 2 0 0 0]\n",
      " [0 0 2 0 0]\n",
      " [0 0 0 2 0]\n",
      " [0 0 0 0 1]]\n",
      "\n",
      "ラプラシアン行列 (Laplacian Matrix):\n",
      "[[ 1 -1  0  0  0]\n",
      " [-1  2 -1  0  0]\n",
      " [ 0 -1  2 -1  0]\n",
      " [ 0  0 -1  2 -1]\n",
      " [ 0  0  0 -1  1]]\n",
      "\n"
     ]
    }
   ],
   "source": [
    "import numpy as np\n",
    "\n",
    "# グラフ: 1 --- 2 --- 3 --- 4 --- 5\n",
    "# ノード数\n",
    "n = 5\n",
    "\n",
    "# 隣接行列 (Adjacency Matrix)\n",
    "A = np.array([\n",
    "    [0, 1, 0, 0, 0],  # ノード1: 2と接続\n",
    "    [1, 0, 1, 0, 0],  # ノード2: 1, 3と接続\n",
    "    [0, 1, 0, 1, 0],  # ノード3: 2, 4と接続\n",
    "    [0, 0, 1, 0, 1],  # ノード4: 3, 5と接続\n",
    "    [0, 0, 0, 1, 0]   # ノード5: 4と接続\n",
    "])\n",
    "\n",
    "print(\"隣接行列 (Adjacency Matrix):\")\n",
    "print(A)\n",
    "print()\n",
    "\n",
    "# 次数行列 (Degree Matrix)\n",
    "D = np.diag(A.sum(axis=1))\n",
    "print(\"次数行列 (Degree Matrix):\")\n",
    "print(D)\n",
    "print()\n",
    "\n",
    "# ラプラシアン行列 (Laplacian Matrix): L = D - A\n",
    "L = D - A\n",
    "print(\"ラプラシアン行列 (Laplacian Matrix):\")\n",
    "print(L)\n",
    "print()"
   ]
  },
  {
   "cell_type": "code",
   "execution_count": 5,
   "id": "7d041818",
   "metadata": {},
   "outputs": [
    {
     "name": "stdout",
     "output_type": "stream",
     "text": [
      "固有値 (昇順):\n",
      "λ0 = 0.00\n",
      "λ1 = 0.38\n",
      "λ2 = 1.38\n",
      "λ3 = 2.62\n",
      "λ4 = 3.62\n",
      "\n"
     ]
    }
   ],
   "source": [
    "# ラプラシアン行列の固有値と固有ベクトルを計算\n",
    "eigenvalues, eigenvectors = np.linalg.eig(L)\n",
    "\n",
    "# 固有値を昇順にソート\n",
    "sorted_indices = np.argsort(eigenvalues)\n",
    "eigenvalues_sorted = eigenvalues[sorted_indices]\n",
    "eigenvectors_sorted = eigenvectors[:, sorted_indices]\n",
    "\n",
    "print(\"固有値 (昇順):\")\n",
    "for i, val in enumerate(eigenvalues_sorted):\n",
    "    print(f\"λ{i} = {val:.2f}\")\n",
    "print()"
   ]
  },
  {
   "cell_type": "code",
   "execution_count": 8,
   "id": "753fd605",
   "metadata": {},
   "outputs": [
    {
     "name": "stdout",
     "output_type": "stream",
     "text": [
      "固有ベクトル (各列が対応する固有ベクトル):\n",
      "[[ 4.47213595e-01 -6.01500955e-01  5.11667274e-01  3.71748034e-01\n",
      "   1.95439508e-01]\n",
      " [ 4.47213595e-01 -3.71748034e-01 -1.95439508e-01 -6.01500955e-01\n",
      "  -5.11667274e-01]\n",
      " [ 4.47213595e-01 -2.78155845e-16 -6.32455532e-01  2.95779963e-16\n",
      "   6.32455532e-01]\n",
      " [ 4.47213595e-01  3.71748034e-01 -1.95439508e-01  6.01500955e-01\n",
      "  -5.11667274e-01]\n",
      " [ 4.47213595e-01  6.01500955e-01  5.11667274e-01 -3.71748034e-01\n",
      "   1.95439508e-01]]\n",
      "\n",
      "固有値 λ0 = 0.00 に対応する固有ベクトル:\n",
      "[0.4472136 0.4472136 0.4472136 0.4472136 0.4472136]\n",
      "\n",
      "固有値 λ1 = 0.38 に対応する固有ベクトル:\n",
      "[-6.01500955e-01 -3.71748034e-01 -2.78155845e-16  3.71748034e-01\n",
      "  6.01500955e-01]\n",
      "\n",
      "固有値 λ2 = 1.38 に対応する固有ベクトル:\n",
      "[ 0.51166727 -0.19543951 -0.63245553 -0.19543951  0.51166727]\n",
      "\n",
      "固有値 λ3 = 2.62 に対応する固有ベクトル:\n",
      "[ 3.71748034e-01 -6.01500955e-01  2.95779963e-16  6.01500955e-01\n",
      " -3.71748034e-01]\n",
      "\n",
      "固有値 λ4 = 3.62 に対応する固有ベクトル:\n",
      "[ 0.19543951 -0.51166727  0.63245553 -0.51166727  0.19543951]\n",
      "\n"
     ]
    }
   ],
   "source": [
    "print(\"固有ベクトル (各列が対応する固有ベクトル):\")\n",
    "print(eigenvectors_sorted)\n",
    "print()\n",
    "\n",
    "# 各固有値に対応する固有ベクトルを個別に表示\n",
    "for i in range(n):\n",
    "    print(f\"固有値 λ{i} = {eigenvalues_sorted[i]:.2f} に対応する固有ベクトル:\")\n",
    "    print(eigenvectors_sorted[:, i])\n",
    "    print()"
   ]
  },
  {
   "cell_type": "code",
   "execution_count": null,
   "id": "7e795270",
   "metadata": {},
   "outputs": [],
   "source": []
  }
 ],
 "metadata": {
  "kernelspec": {
   "display_name": "workspace",
   "language": "python",
   "name": "python3"
  },
  "language_info": {
   "codemirror_mode": {
    "name": "ipython",
    "version": 3
   },
   "file_extension": ".py",
   "mimetype": "text/x-python",
   "name": "python",
   "nbconvert_exporter": "python",
   "pygments_lexer": "ipython3",
   "version": "3.12.12"
  }
 },
 "nbformat": 4,
 "nbformat_minor": 5
}
